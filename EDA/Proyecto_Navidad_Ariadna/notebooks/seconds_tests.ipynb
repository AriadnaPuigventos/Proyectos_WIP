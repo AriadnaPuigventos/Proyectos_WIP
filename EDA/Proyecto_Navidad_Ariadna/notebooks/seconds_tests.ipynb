{
 "metadata": {
  "language_info": {
   "codemirror_mode": {
    "name": "ipython",
    "version": 3
   },
   "file_extension": ".py",
   "mimetype": "text/x-python",
   "name": "python",
   "nbconvert_exporter": "python",
   "pygments_lexer": "ipython3",
   "version": "3.9.0-final"
  },
  "orig_nbformat": 2,
  "kernelspec": {
   "name": "python3",
   "display_name": "Python 3.9.0 64-bit",
   "metadata": {
    "interpreter": {
     "hash": "aee8b7b246df8f9039afb4144a1f6fd8d2ca17a180786b69acc140d282b71a49"
    }
   }
  }
 },
 "nbformat": 4,
 "nbformat_minor": 2,
 "cells": [
  {
   "cell_type": "code",
   "execution_count": 1,
   "metadata": {},
   "outputs": [],
   "source": [
    "import pandas as pd"
   ]
  },
  {
   "cell_type": "code",
   "execution_count": 2,
   "metadata": {},
   "outputs": [
    {
     "output_type": "execute_result",
     "data": {
      "text/plain": [
       "     year           winner  gender        country      time marathon\n",
       "0    2014   Dennis Kimetto    Male          Kenya  02:02:57   Berlin\n",
       "1    2011   Geoffrey Mutai    Male          Kenya  02:03:02   Boston\n",
       "2    2016  Kenenisa Bekele    Male       Ethiopia  02:03:03   Berlin\n",
       "3    2016   Eliud Kipchoge    Male          Kenya  02:03:05   London\n",
       "4    2013   Wilson Kipsang    Male          Kenya  02:03:23   Berlin\n",
       "..    ...              ...     ...            ...       ...      ...\n",
       "531  1966       Bobbi Gibb  Female  United States  03:21:40   Boston\n",
       "532  1974  Jutta von Haase  Female        Germany  03:22:01   Berlin\n",
       "533  1969  Sara Mae Berman  Female  United States  03:22:46   Boston\n",
       "534  1967       Bobbi Gibb  Female  United States  03:27:17   Boston\n",
       "535  1968       Bobbi Gibb  Female  United States  03:30:00   Boston\n",
       "\n",
       "[536 rows x 6 columns]"
      ],
      "text/html": "<div>\n<style scoped>\n    .dataframe tbody tr th:only-of-type {\n        vertical-align: middle;\n    }\n\n    .dataframe tbody tr th {\n        vertical-align: top;\n    }\n\n    .dataframe thead th {\n        text-align: right;\n    }\n</style>\n<table border=\"1\" class=\"dataframe\">\n  <thead>\n    <tr style=\"text-align: right;\">\n      <th></th>\n      <th>year</th>\n      <th>winner</th>\n      <th>gender</th>\n      <th>country</th>\n      <th>time</th>\n      <th>marathon</th>\n    </tr>\n  </thead>\n  <tbody>\n    <tr>\n      <th>0</th>\n      <td>2014</td>\n      <td>Dennis Kimetto</td>\n      <td>Male</td>\n      <td>Kenya</td>\n      <td>02:02:57</td>\n      <td>Berlin</td>\n    </tr>\n    <tr>\n      <th>1</th>\n      <td>2011</td>\n      <td>Geoffrey Mutai</td>\n      <td>Male</td>\n      <td>Kenya</td>\n      <td>02:03:02</td>\n      <td>Boston</td>\n    </tr>\n    <tr>\n      <th>2</th>\n      <td>2016</td>\n      <td>Kenenisa Bekele</td>\n      <td>Male</td>\n      <td>Ethiopia</td>\n      <td>02:03:03</td>\n      <td>Berlin</td>\n    </tr>\n    <tr>\n      <th>3</th>\n      <td>2016</td>\n      <td>Eliud Kipchoge</td>\n      <td>Male</td>\n      <td>Kenya</td>\n      <td>02:03:05</td>\n      <td>London</td>\n    </tr>\n    <tr>\n      <th>4</th>\n      <td>2013</td>\n      <td>Wilson Kipsang</td>\n      <td>Male</td>\n      <td>Kenya</td>\n      <td>02:03:23</td>\n      <td>Berlin</td>\n    </tr>\n    <tr>\n      <th>...</th>\n      <td>...</td>\n      <td>...</td>\n      <td>...</td>\n      <td>...</td>\n      <td>...</td>\n      <td>...</td>\n    </tr>\n    <tr>\n      <th>531</th>\n      <td>1966</td>\n      <td>Bobbi Gibb</td>\n      <td>Female</td>\n      <td>United States</td>\n      <td>03:21:40</td>\n      <td>Boston</td>\n    </tr>\n    <tr>\n      <th>532</th>\n      <td>1974</td>\n      <td>Jutta von Haase</td>\n      <td>Female</td>\n      <td>Germany</td>\n      <td>03:22:01</td>\n      <td>Berlin</td>\n    </tr>\n    <tr>\n      <th>533</th>\n      <td>1969</td>\n      <td>Sara Mae Berman</td>\n      <td>Female</td>\n      <td>United States</td>\n      <td>03:22:46</td>\n      <td>Boston</td>\n    </tr>\n    <tr>\n      <th>534</th>\n      <td>1967</td>\n      <td>Bobbi Gibb</td>\n      <td>Female</td>\n      <td>United States</td>\n      <td>03:27:17</td>\n      <td>Boston</td>\n    </tr>\n    <tr>\n      <th>535</th>\n      <td>1968</td>\n      <td>Bobbi Gibb</td>\n      <td>Female</td>\n      <td>United States</td>\n      <td>03:30:00</td>\n      <td>Boston</td>\n    </tr>\n  </tbody>\n</table>\n<p>536 rows × 6 columns</p>\n</div>"
     },
     "metadata": {},
     "execution_count": 2
    }
   ],
   "source": [
    "df = pd.read_csv(\"/Users/ariadnapuigventos/Documents/CURSOS/BRIDGE/DS_Ejercicios_Python/BootCamp_TheBridge/Proyecto_Navidad_Ariadna/documentation/world_marathon_majors.csv\", sep= \";\")\n",
    "df"
   ]
  },
  {
   "cell_type": "code",
   "execution_count": 7,
   "metadata": {},
   "outputs": [],
   "source": [
    "from sklearn.preprocessing import LabelEncoder"
   ]
  },
  {
   "cell_type": "code",
   "execution_count": 8,
   "metadata": {},
   "outputs": [
    {
     "output_type": "stream",
     "name": "stdout",
     "text": [
      "0      17\n1      17\n2       8\n3      17\n4      17\n       ..\n531    35\n532    10\n533    35\n534    35\n535    35\nName: encoded_country, Length: 536, dtype: int64\n"
     ]
    },
    {
     "output_type": "execute_result",
     "data": {
      "text/plain": [
       "0      0\n",
       "1      1\n",
       "2      0\n",
       "3      3\n",
       "4      0\n",
       "      ..\n",
       "531    1\n",
       "532    0\n",
       "533    1\n",
       "534    1\n",
       "535    1\n",
       "Name: encoded_marathon, Length: 536, dtype: int64"
      ]
     },
     "metadata": {},
     "execution_count": 8
    }
   ],
   "source": [
    "le = LabelEncoder()\n",
    "df[\"encoded_country\"] = le.fit_transform(df[\"country\"])\n",
    "print(df[\"encoded_country\"])\n",
    "df[\"encoded_marathon\"] = le.fit_transform(df[\"marathon\"])\n",
    "df[\"encoded_marathon\"]"
   ]
  },
  {
   "cell_type": "code",
   "execution_count": null,
   "metadata": {},
   "outputs": [],
   "source": []
  }
 ]
}