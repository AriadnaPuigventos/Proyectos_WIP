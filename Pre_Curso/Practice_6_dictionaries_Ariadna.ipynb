{
 "cells": [
  {
   "cell_type": "markdown",
   "metadata": {},
   "source": [
    "# Python | day 6 | dictionaries"
   ]
  },
  {
   "cell_type": "markdown",
   "metadata": {},
   "source": [
    "Dictionaries are used to store data values in key:value pairs.\n",
    "\n",
    "A dictionary is a collection which is unordered, changeable and does not allow duplicates.\n",
    "\n",
    "Dictionaries are written with curly brackets, and have keys and values:"
   ]
  },
  {
   "cell_type": "markdown",
   "metadata": {},
   "source": [
    "```python\n",
    "thisdict = {\n",
    "  \"brand\": \"Ford\",\n",
    "  \"model\": \"Mustang\",\n",
    "  \"year\": 1964\n",
    "}\n",
    "```"
   ]
  },
  {
   "cell_type": "markdown",
   "metadata": {},
   "source": [
    "https://www.w3schools.com/python/python_dictionaries.asp"
   ]
  },
  {
   "cell_type": "markdown",
   "metadata": {},
   "source": [
    "### Exercise 1. \n",
    "\n",
    "1. Create a dictionary with an integer 5 as the key and \"val\" as its value."
   ]
  },
  {
   "cell_type": "code",
   "execution_count": 1,
   "metadata": {},
   "outputs": [
    {
     "output_type": "stream",
     "name": "stdout",
     "text": [
      "{5: 'val'}\n"
     ]
    }
   ],
   "source": [
    "#Intento1\n",
    "d1 = {5: \"val\"}\n",
    "print(d1)"
   ]
  },
  {
   "cell_type": "markdown",
   "metadata": {},
   "source": [
    "2. Create two lists: one that has 4 city names and another that has 4 landmarks in the city."
   ]
  },
  {
   "cell_type": "code",
   "execution_count": 2,
   "metadata": {},
   "outputs": [
    {
     "output_type": "stream",
     "name": "stdout",
     "text": [
      "['New York', 'Osaka', 'Pai', 'Melbourne']\n['Union Square', 'Sushi', 'Delia', 8]\n"
     ]
    }
   ],
   "source": [
    "#Intento1\n",
    "cities = [\"New York\", \"Osaka\", \"Pai\", \"Melbourne\"]\n",
    "landmarks = [\"Union Square\", \"Sushi\", \"Delia\", 8]\n",
    "print(cities)\n",
    "print(landmarks)"
   ]
  },
  {
   "cell_type": "markdown",
   "metadata": {},
   "source": [
    "3. Create a dictionary where the cities contained in the first list are the **keys** and the landmarks are the **values**.\n",
    "```python\n",
    "#example\n",
    "places = {\"Malaga\": \"Gibralfaro\", \n",
    "         \"Madrid\": \"Templo de Debod\",\n",
    "         \"Granada\": \"La Alcazaba\",\n",
    "         \"Barcelona\": \"Sagrada Familia\"}\n",
    "```"
   ]
  },
  {
   "cell_type": "code",
   "execution_count": 3,
   "metadata": {},
   "outputs": [
    {
     "output_type": "stream",
     "name": "stdout",
     "text": [
      "{'New York': 'Union Square', 'Osaka': 'Sushi', 'Pai': 'Delia', 'Melbourne': 8}\n"
     ]
    }
   ],
   "source": [
    "#Intento1\n",
    "cities = [\"New York\", \"Osaka\", \"Pai\", \"Melbourne\"]\n",
    "landmarks = [\"Union Square\", \"Sushi\", \"Delia\", 8]\n",
    "\n",
    "places = dict(zip(cities, landmarks))\n",
    "print(places)"
   ]
  },
  {
   "cell_type": "markdown",
   "metadata": {},
   "source": [
    "4. Loop through the dictionary and print only the values of those keys starting with the letter **M**.\n",
    "\n",
    "https://realpython.com/iterate-through-dictionary-python/"
   ]
  },
  {
   "cell_type": "code",
   "execution_count": 4,
   "metadata": {},
   "outputs": [
    {
     "output_type": "stream",
     "name": "stdout",
     "text": [
      "dict_keys(['New York', 'Osaka', 'Pai', 'Melbourne'])\n"
     ]
    }
   ],
   "source": [
    "#Intento 1 - No entiendo muy bien a qué se refiere con empezar con la letra M, no sé si a la M de Málaga en el ejemplo, por consiguiente sería mi primera Key de mi dicciontario...\n",
    "\n",
    "places = {'New York': 'Union Square', 'Osaka': 'Sushi', 'Pai': 'Delia', 'Melbourne': 8}\n",
    "print(places.keys())"
   ]
  },
  {
   "cell_type": "markdown",
   "metadata": {},
   "source": [
    "5. Create a function that receives two lists `list1` and `list2` by parameter and returns a dictionary with each element of `list1` as keys and the elements of `list2` as values. Call the function with the lists you have created before to return the same dictionary you've created in question 3. "
   ]
  },
  {
   "cell_type": "code",
   "execution_count": 5,
   "metadata": {},
   "outputs": [
    {
     "output_type": "stream",
     "name": "stdout",
     "text": [
      "{'New York': 'Union Square', 'Osaka': 'Sushi', 'Pai': 'Delia', 'Melbourne': 8}\n"
     ]
    }
   ],
   "source": [
    "#Intento2 - Espero haber puesto bien el condicional (if) :)\n",
    "cities = [\"New York\", \"Osaka\", \"Pai\", \"Melbourne\"]\n",
    "landmarks = [\"Union Square\", \"Sushi\", \"Delia\", 8]\n",
    "\n",
    "def recibir_dos_listas(cities, landmarks):\n",
    "    for pos, (key, value) in enumerate(places.items()):\n",
    "        pos + 1\n",
    "        if pos >= 0:\n",
    "            return places\n",
    "        \n",
    "        \n",
    "places = {'New York': 'Union Square', 'Osaka': 'Sushi', 'Pai': 'Delia', 'Melbourne': 8} \n",
    "z = recibir_dos_listas(cities, landmarks)\n",
    "print(z)"
   ]
  },
  {
   "cell_type": "code",
   "execution_count": 6,
   "metadata": {},
   "outputs": [
    {
     "output_type": "stream",
     "name": "stdout",
     "text": [
      "{'New York': 'Union Square', 'Osaka': 'Sushi', 'Pai': 'Delia', 'Melbourne': 8}\n{'New York': 'Union Square', 'Osaka': 'Sushi', 'Pai': 'Delia', 'Melbourne': 8}\n"
     ]
    }
   ],
   "source": [
    "#He querido probar por qué no me ha salido 4 veces repetido mi diccionario. Se supone que NO tiene que repetirse 4 veces porque estamos usando (enumerate) que es acumulativo y no (range) que este sería repetirse por las 4 interacciones??\n",
    "\n",
    "cities = [\"New York\", \"Osaka\", \"Pai\", \"Melbourne\"]\n",
    "landmarks = [\"Union Square\", \"Sushi\", \"Delia\", 8]\n",
    "\n",
    "def recibir_dos_listas(cities, landmarks):\n",
    "    for pos, (key, value) in enumerate(places.items()):\n",
    "        if pos >= 0:\n",
    "            pos + 1\n",
    "            print(places)\n",
    "            return places\n",
    "        \n",
    "        \n",
    "places = {'New York': 'Union Square', 'Osaka': 'Sushi', 'Pai': 'Delia', 'Melbourne': 8} \n",
    "z = recibir_dos_listas(cities, landmarks)\n",
    "print(z)"
   ]
  },
  {
   "cell_type": "markdown",
   "metadata": {},
   "source": [
    "### Exercise 2. "
   ]
  },
  {
   "cell_type": "markdown",
   "metadata": {},
   "source": [
    "1. Create an empty dictionary called dog."
   ]
  },
  {
   "cell_type": "code",
   "execution_count": 9,
   "metadata": {},
   "outputs": [],
   "source": [
    "dog = {}"
   ]
  },
  {
   "cell_type": "markdown",
   "metadata": {},
   "source": [
    "2. Add name, color, breed, legs, age to the dog dictionary."
   ]
  },
  {
   "cell_type": "code",
   "execution_count": 11,
   "metadata": {},
   "outputs": [
    {
     "output_type": "stream",
     "name": "stdout",
     "text": [
      "{'name': 'Joe Cocker', 'color': 'blonde', 'breed': 'Cocker', 'legs': 4, 'age': 12}\n"
     ]
    }
   ],
   "source": [
    "#Intento1\n",
    "dog = {}\n",
    "dog[\"name\"] = \"Joe Cocker\"\n",
    "dog[\"color\"] = \"blonde\"\n",
    "dog[\"breed\"] = \"Cocker\"\n",
    "dog[\"legs\"] = 4\n",
    "dog[\"age\"] = 12\n",
    "print(dog)\n"
   ]
  },
  {
   "cell_type": "markdown",
   "metadata": {},
   "source": [
    "3. Create a student dictionary and add first_name, last_name, age, skills, country, city and address as keys for the dictionary.\n"
   ]
  },
  {
   "cell_type": "code",
   "execution_count": 12,
   "metadata": {},
   "outputs": [
    {
     "output_type": "stream",
     "name": "stdout",
     "text": [
      "{'first_name': 'Regina', 'last_name': 'Falange', 'age': 34, 'skills': ['responsible', 'humor', 'emphatic'], 'country': 'Spain', 'city': 'Barna', 'address': 'C/Lolita, 4'}\n"
     ]
    }
   ],
   "source": [
    "student_dict = {}\n",
    "student_dict[\"first_name\"] = \"Regina\"\n",
    "student_dict[\"last_name\"] = \"Falange\"\n",
    "student_dict[\"age\"] = 34\n",
    "student_dict[\"skills\"] = [\"responsible\", \"humor\", \"emphatic\"]\n",
    "student_dict[\"country\"] = \"Spain\"\n",
    "student_dict[\"city\"] = \"Barna\"\n",
    "student_dict[\"address\"] = \"C/Lolita, 4\"\n",
    "print(student_dict)"
   ]
  },
  {
   "cell_type": "code",
   "execution_count": 15,
   "metadata": {},
   "outputs": [
    {
     "output_type": "error",
     "ename": "SyntaxError",
     "evalue": "invalid syntax (<ipython-input-15-c6f8915710c3>, line 6)",
     "traceback": [
      "\u001b[0;36m  File \u001b[0;32m\"<ipython-input-15-c6f8915710c3>\"\u001b[0;36m, line \u001b[0;32m6\u001b[0m\n\u001b[0;31m    elif surname is input(\"what is your first name?: \"):\u001b[0m\n\u001b[0m    ^\u001b[0m\n\u001b[0;31mSyntaxError\u001b[0m\u001b[0;31m:\u001b[0m invalid syntax\n"
     ]
    }
   ],
   "source": [
    "#Creo que habría otra manera de apuntar cada una de las keys y los values con una f(x) y añandiendo el método INPUT, además si viene un nuevo usuario, también se puede poner automáticamente, no?. LO HE QUERIDO PROBAR, ¿A VER QUÉ OS PARECE? - ¿LO PODRÍAMOS COMENTAR EN CLASE, CÓMO SE HARÍA?\n",
    "\n",
    "def añadir_student_dictionary(user1):\n",
    "    if name is input(\"what is your first name?: \"):\n",
    "        print(user1(\"[first_name]:\", first_name)\n",
    "    elif surname is input(\"what is your last name?: \"):\n",
    "        print(\"[last_name]:\", last_name)\n",
    "    elif age is input(\"How old are you?: \"):\n",
    "        print(\"[age]:\", age)\n",
    "    elif skills is input(\"What are yours skills (max.3)?: \"):\n",
    "        print(\"[skills]:\", skills)\n",
    "    elif country is input(\"Where are you from?: \"):\n",
    "        print(\"[country]:\", country)\n",
    "    elif city is input(\"Where are you live?: \"):\n",
    "        print(\"[city]:\", city)\n",
    "    elif address is input(\"Which is your home address?: \"):\n",
    "        print(\"[address]:\", address)\n",
    "    return user1\n",
    "    print(user1)\n",
    "    profiles.append(user1)\n",
    "\n",
    "\n",
    "\n",
    "#Meaning variables\n",
    "first_name = input(\"what is your first name?: \")\n",
    "last_name = input(\"what is your first name?: \")\n",
    "age = input(\"How old are you?: \")\n",
    "skills = input(\"What are yours skills (max.3)?: \")\n",
    "country = input(\"Where are you from?: \")\n",
    "city = input(\"Where are you live?: \")\n",
    "address = input(\"Which is your home address?: \")\n",
    "\n",
    "user1 = {}\n",
    "profiles = {}\n",
    "z = añadir_student_dictionary(user1)\n",
    "print(z)"
   ]
  },
  {
   "cell_type": "markdown",
   "metadata": {},
   "source": [
    "4. Get the length of the student dictionary.\n"
   ]
  },
  {
   "cell_type": "code",
   "execution_count": 14,
   "metadata": {},
   "outputs": [
    {
     "output_type": "stream",
     "name": "stdout",
     "text": [
      "7\n"
     ]
    }
   ],
   "source": [
    "print(len(student_dict))"
   ]
  },
  {
   "cell_type": "markdown",
   "metadata": {},
   "source": [
    "5. Get the value of skills and check the data type, it should be a list."
   ]
  },
  {
   "cell_type": "code",
   "execution_count": 24,
   "metadata": {},
   "outputs": [
    {
     "output_type": "error",
     "ename": "TypeError",
     "evalue": "string indices must be integers",
     "traceback": [
      "\u001b[0;31m---------------------------------------------------------------------------\u001b[0m",
      "\u001b[0;31mTypeError\u001b[0m                                 Traceback (most recent call last)",
      "\u001b[0;32m<ipython-input-24-c4bbee7bb2f5>\u001b[0m in \u001b[0;36m<module>\u001b[0;34m\u001b[0m\n\u001b[1;32m     11\u001b[0m \u001b[0mstudent_dict\u001b[0m \u001b[0;34m=\u001b[0m \u001b[0;34m{\u001b[0m\u001b[0;34m'first_name'\u001b[0m\u001b[0;34m:\u001b[0m \u001b[0;34m'Regina'\u001b[0m\u001b[0;34m,\u001b[0m \u001b[0;34m'last_name'\u001b[0m\u001b[0;34m:\u001b[0m \u001b[0;34m'Falange'\u001b[0m\u001b[0;34m,\u001b[0m \u001b[0;34m'age'\u001b[0m\u001b[0;34m:\u001b[0m \u001b[0;36m34\u001b[0m\u001b[0;34m,\u001b[0m \u001b[0;34m'skills'\u001b[0m\u001b[0;34m:\u001b[0m \u001b[0;34m[\u001b[0m\u001b[0;34m'responsible'\u001b[0m\u001b[0;34m,\u001b[0m \u001b[0;34m'humor'\u001b[0m\u001b[0;34m,\u001b[0m \u001b[0;34m'emphatic'\u001b[0m\u001b[0;34m]\u001b[0m\u001b[0;34m,\u001b[0m \u001b[0;34m'country'\u001b[0m\u001b[0;34m:\u001b[0m \u001b[0;34m'Spain'\u001b[0m\u001b[0;34m,\u001b[0m \u001b[0;34m'city'\u001b[0m\u001b[0;34m:\u001b[0m \u001b[0;34m'Barna'\u001b[0m\u001b[0;34m,\u001b[0m \u001b[0;34m'address'\u001b[0m\u001b[0;34m:\u001b[0m \u001b[0;34m'C/Lolita, 4'\u001b[0m\u001b[0;34m}\u001b[0m\u001b[0;34m\u001b[0m\u001b[0;34m\u001b[0m\u001b[0m\n\u001b[1;32m     12\u001b[0m \u001b[0mskills\u001b[0m \u001b[0;34m=\u001b[0m \u001b[0mstudent_dict\u001b[0m\u001b[0;34m.\u001b[0m\u001b[0mget\u001b[0m\u001b[0;34m(\u001b[0m\u001b[0;34m\"skills\"\u001b[0m\u001b[0;34m)\u001b[0m\u001b[0;34m\u001b[0m\u001b[0;34m\u001b[0m\u001b[0m\n\u001b[0;32m---> 13\u001b[0;31m \u001b[0mz\u001b[0m \u001b[0;34m=\u001b[0m \u001b[0mvalores_de_skills\u001b[0m\u001b[0;34m(\u001b[0m\u001b[0mskills\u001b[0m\u001b[0;34m)\u001b[0m\u001b[0;34m\u001b[0m\u001b[0;34m\u001b[0m\u001b[0m\n\u001b[0m\u001b[1;32m     14\u001b[0m \u001b[0mprint\u001b[0m\u001b[0;34m(\u001b[0m\u001b[0mz\u001b[0m\u001b[0;34m)\u001b[0m\u001b[0;34m\u001b[0m\u001b[0;34m\u001b[0m\u001b[0m\n",
      "\u001b[0;32m<ipython-input-24-c4bbee7bb2f5>\u001b[0m in \u001b[0;36mvalores_de_skills\u001b[0;34m(skills)\u001b[0m\n\u001b[1;32m      5\u001b[0m \u001b[0;32mdef\u001b[0m \u001b[0mvalores_de_skills\u001b[0m\u001b[0;34m(\u001b[0m\u001b[0mskills\u001b[0m\u001b[0;34m)\u001b[0m\u001b[0;34m:\u001b[0m\u001b[0;34m\u001b[0m\u001b[0;34m\u001b[0m\u001b[0m\n\u001b[1;32m      6\u001b[0m     \u001b[0;32mfor\u001b[0m \u001b[0mvalues\u001b[0m \u001b[0;32min\u001b[0m \u001b[0mstudent_dict\u001b[0m\u001b[0;34m.\u001b[0m\u001b[0mvalues\u001b[0m\u001b[0;34m(\u001b[0m\u001b[0;34m)\u001b[0m\u001b[0;34m:\u001b[0m\u001b[0;34m\u001b[0m\u001b[0;34m\u001b[0m\u001b[0m\n\u001b[0;32m----> 7\u001b[0;31m         \u001b[0;32mif\u001b[0m \u001b[0mtype\u001b[0m\u001b[0;34m(\u001b[0m\u001b[0mvalues\u001b[0m\u001b[0;34m[\u001b[0m\u001b[0;34m\"skills\"\u001b[0m\u001b[0;34m]\u001b[0m\u001b[0;34m)\u001b[0m \u001b[0;34m==\u001b[0m \u001b[0mstr\u001b[0m\u001b[0;34m:\u001b[0m\u001b[0;34m\u001b[0m\u001b[0;34m\u001b[0m\u001b[0m\n\u001b[0m\u001b[1;32m      8\u001b[0m             \u001b[0mprint\u001b[0m\u001b[0;34m(\u001b[0m\u001b[0mvalues\u001b[0m\u001b[0;34m[\u001b[0m\u001b[0;34m\"skills\"\u001b[0m\u001b[0;34m]\u001b[0m\u001b[0;34m)\u001b[0m\u001b[0;34m\u001b[0m\u001b[0;34m\u001b[0m\u001b[0m\n\u001b[1;32m      9\u001b[0m         \u001b[0;32mreturn\u001b[0m \u001b[0mstudent_dict\u001b[0m\u001b[0;34m\u001b[0m\u001b[0;34m\u001b[0m\u001b[0m\n",
      "\u001b[0;31mTypeError\u001b[0m: string indices must be integers"
     ]
    }
   ],
   "source": [
    "#Intento1 - No entiendo porque me dice \"string indices must be integers\" ya que mis skills son todas strings!!\n",
    "\n",
    "student_dict = {'first_name': 'Regina', 'last_name': 'Falange', 'age': 34, 'skills': ['responsible', 'humor', 'emphatic'], 'country': 'Spain', 'city': 'Barna', 'address': 'C/Lolita, 4'}\n",
    "\n",
    "def valores_de_skills(skills):\n",
    "    for values in student_dict.values():\n",
    "        if type(values[\"skills\"]) == str:\n",
    "            print(values[\"skills\"])\n",
    "        return student_dict\n",
    "\n",
    "student_dict = {'first_name': 'Regina', 'last_name': 'Falange', 'age': 34, 'skills': ['responsible', 'humor', 'emphatic'], 'country': 'Spain', 'city': 'Barna', 'address': 'C/Lolita, 4'}\n",
    "skills = student_dict.get(\"skills\")\n",
    "z = valores_de_skills(skills)\n",
    "print(z)"
   ]
  },
  {
   "cell_type": "code",
   "execution_count": 20,
   "metadata": {},
   "outputs": [
    {
     "output_type": "stream",
     "name": "stdout",
     "text": [
      "['responsible', 'humor', 'emphatic']\n"
     ]
    }
   ],
   "source": [
    "skills = student_dict.get(\"skills\")\n",
    "print(skills)"
   ]
  },
  {
   "cell_type": "code",
   "execution_count": 25,
   "metadata": {},
   "outputs": [
    {
     "output_type": "execute_result",
     "data": {
      "text/plain": [
       "list"
      ]
     },
     "metadata": {},
     "execution_count": 25
    }
   ],
   "source": [
    "type(skills)"
   ]
  },
  {
   "cell_type": "markdown",
   "metadata": {},
   "source": [
    "6. Modify the skills values by adding one or two skills."
   ]
  },
  {
   "cell_type": "code",
   "execution_count": 28,
   "metadata": {},
   "outputs": [
    {
     "output_type": "stream",
     "name": "stdout",
     "text": [
      "['happy', 'multitasking']\n{'first_name': 'Regina', 'last_name': 'Falange', 'age': 34, 'skills': ['responsible', 'humor', 'emphatic', ['happy', 'multitasking']], 'country': 'Spain', 'city': 'Barna', 'address': 'C/Lolita, 4'}\n"
     ]
    }
   ],
   "source": [
    "#Intento1\n",
    "skills2 = [\"happy\", \"multitasking\"]\n",
    "print(skills2)\n",
    "\n",
    "student_dict[\"skills\"].append(skills2)\n",
    "print(student_dict)\n"
   ]
  },
  {
   "cell_type": "markdown",
   "metadata": {},
   "source": [
    "7. Get the dictionary keys as a list."
   ]
  },
  {
   "cell_type": "code",
   "execution_count": 16,
   "metadata": {},
   "outputs": [
    {
     "output_type": "execute_result",
     "data": {
      "text/plain": [
       "dict_keys(['first_name', 'last_name', 'age', 'skills', 'country', 'city', 'address'])"
      ]
     },
     "metadata": {},
     "execution_count": 16
    }
   ],
   "source": [
    "#Intento1\n",
    "\n",
    "student_dict.keys()"
   ]
  },
  {
   "cell_type": "markdown",
   "metadata": {},
   "source": [
    "8. Get the dictionary values as a list.\n"
   ]
  },
  {
   "cell_type": "code",
   "execution_count": 29,
   "metadata": {},
   "outputs": [
    {
     "output_type": "execute_result",
     "data": {
      "text/plain": [
       "dict_values(['Regina', 'Falange', 34, ['responsible', 'humor', 'emphatic', ['happy', 'multitasking']], 'Spain', 'Barna', 'C/Lolita, 4'])"
      ]
     },
     "metadata": {},
     "execution_count": 29
    }
   ],
   "source": [
    "#Intento1\n",
    "student_dict.values()"
   ]
  },
  {
   "cell_type": "markdown",
   "metadata": {},
   "source": [
    "9. Change the dictionary to a list of tuples using `items()` method"
   ]
  },
  {
   "cell_type": "code",
   "execution_count": 32,
   "metadata": {},
   "outputs": [
    {
     "output_type": "execute_result",
     "data": {
      "text/plain": [
       "dict_items([('first_name', 'Regina'), ('last_name', 'Falange'), ('age', 34), ('skills', ['responsible', 'humor', 'emphatic', ['happy', 'multitasking']]), ('country', 'Spain'), ('city', 'Barna')])"
      ]
     },
     "metadata": {},
     "execution_count": 32
    }
   ],
   "source": [
    "student_dict.items()"
   ]
  },
  {
   "cell_type": "markdown",
   "metadata": {},
   "source": [
    "10. Delete one of the items in the dictionary.\n"
   ]
  },
  {
   "cell_type": "code",
   "execution_count": 31,
   "metadata": {},
   "outputs": [
    {
     "output_type": "stream",
     "name": "stdout",
     "text": [
      "{'first_name': 'Regina', 'last_name': 'Falange', 'age': 34, 'skills': ['responsible', 'humor', 'emphatic', ['happy', 'multitasking']], 'country': 'Spain', 'city': 'Barna'}\n"
     ]
    }
   ],
   "source": [
    "del student_dict[\"address\"]\n",
    "print(student_dict) "
   ]
  },
  {
   "cell_type": "markdown",
   "metadata": {},
   "source": [
    "### Bonus Track"
   ]
  },
  {
   "cell_type": "markdown",
   "metadata": {},
   "source": [
    "**Tómate una cervecita o un zumito a tu salud.**"
   ]
  },
  {
   "cell_type": "code",
   "execution_count": null,
   "metadata": {},
   "outputs": [],
   "source": [
    "#¡¡Por supuesto, me voy a ver el Barça después de 6 horas!!... hoy creo que ha sido el primer día que he visto claro algo!!! Al menos son los diccionarios!!!! :) :)"
   ]
  },
  {
   "cell_type": "markdown",
   "metadata": {},
   "source": [
    "!['daughter'](https://i.pinimg.com/originals/8f/35/28/8f35281e742e71be09697e7e6789b819.png)"
   ]
  },
  {
   "cell_type": "code",
   "execution_count": null,
   "metadata": {},
   "outputs": [],
   "source": []
  }
 ],
 "metadata": {
  "kernelspec": {
   "name": "python3",
   "display_name": "Python 3.9.0 64-bit",
   "metadata": {
    "interpreter": {
     "hash": "aee8b7b246df8f9039afb4144a1f6fd8d2ca17a180786b69acc140d282b71a49"
    }
   }
  },
  "language_info": {
   "codemirror_mode": {
    "name": "ipython",
    "version": 3
   },
   "file_extension": ".py",
   "mimetype": "text/x-python",
   "name": "python",
   "nbconvert_exporter": "python",
   "pygments_lexer": "ipython3",
   "version": "3.9.0-final"
  }
 },
 "nbformat": 4,
 "nbformat_minor": 2
}