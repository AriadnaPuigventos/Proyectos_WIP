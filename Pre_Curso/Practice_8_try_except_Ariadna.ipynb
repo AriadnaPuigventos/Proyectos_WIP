{
 "cells": [
  {
   "cell_type": "markdown",
   "metadata": {},
   "source": [
    "# Python | day 8 | try&except"
   ]
  },
  {
   "cell_type": "markdown",
   "metadata": {},
   "source": [
    "Python uses try and except to handle errors gracefully. A graceful exit (or graceful handling) of errors is a simple programming idiom - a program detects a serious error condition and \"exits gracefully\", in a controlled manner as a result. Often the program prints a descriptive error message to a terminal or log as part of the graceful exit, this makes our application more robust. The cause of an exception is often external to the program itself. An example of exceptions could be an incorrect input, wrong file name, unable to find a file, a malfunctioning IO device. Graceful handling of errors prevents our applications from crashing."
   ]
  },
  {
   "cell_type": "markdown",
   "metadata": {},
   "source": [
    "```python\n",
    "try:\n",
    "    code in this block if things go well\n",
    "except:\n",
    "    code in this block run if things go wrong\n",
    "```"
   ]
  },
  {
   "cell_type": "markdown",
   "metadata": {},
   "source": [
    "### Exercise 1. \n"
   ]
  },
  {
   "cell_type": "markdown",
   "metadata": {},
   "source": [
    "1. In the 4 cells below, modify the code to catch the error and print a meaningful message that will alert the user what went wrong. You may catch the error using a general except or a specific except for the error caused by the code."
   ]
  },
  {
   "cell_type": "code",
   "execution_count": 1,
   "metadata": {},
   "outputs": [
    {
     "output_type": "stream",
     "name": "stdout",
     "text": [
      "este seria el error:  name 'some_string' is not defined\n"
     ]
    }
   ],
   "source": [
    "# Modify the code below:\n",
    "#Intento1\n",
    "#This is error: name 'some_string' is not defined\n",
    "\n",
    "try:\n",
    "    print(some_string)\n",
    "except Exception as error:\n",
    "    print(\"este seria el error: \", error)"
   ]
  },
  {
   "cell_type": "code",
   "execution_count": 1,
   "metadata": {},
   "outputs": [
    {
     "output_type": "stream",
     "name": "stdout",
     "text": [
      "some string\n"
     ]
    }
   ],
   "source": [
    "#intento2\n",
    "some_string = (\"some string\")\n",
    "print(some_string)"
   ]
  },
  {
   "cell_type": "code",
   "execution_count": 2,
   "metadata": {},
   "outputs": [
    {
     "output_type": "stream",
     "name": "stdout",
     "text": [
      "Este seria el error:  unsupported operand type(s) for ** or pow(): 'str' and 'int'\nComo mucho podemos concatenar esta lista, pero no sumarla si no la convertimos en posiciones:  abc\n"
     ]
    }
   ],
   "source": [
    "# Modify the code below:\n",
    "#Intento1\n",
    "#This is error: unsupported operand type(s) for ** or pow(): 'str' and 'int'\n",
    "try:\n",
    "    for i in [\"a\", \"b\", \"c\"]:\n",
    "        print(i**2)\n",
    "except Exception as error:\n",
    "    print(\"Este seria el error: \", error)\n",
    "    suma = \"a\" + \"b\" + \"c\"\n",
    "    print(\"Como mucho podemos concatenar esta lista, pero no sumarla si no la convertimos en posiciones: \", suma)"
   ]
  },
  {
   "cell_type": "code",
   "execution_count": 3,
   "metadata": {},
   "outputs": [
    {
     "output_type": "stream",
     "name": "stdout",
     "text": [
      "0\n1\n4\n"
     ]
    }
   ],
   "source": [
    "#intento2\n",
    "for i in range(len([\"a\", \"b\", \"c\"])):\n",
    "    print(i**2)"
   ]
  },
  {
   "cell_type": "code",
   "execution_count": 5,
   "metadata": {},
   "outputs": [
    {
     "output_type": "stream",
     "name": "stdout",
     "text": [
      "You are crazy, you can't divide by zero never!!\n0.0\n"
     ]
    }
   ],
   "source": [
    "# Modify the code below:\n",
    "#Intento1\n",
    "#This is error: division by zero\n",
    "x = 5\n",
    "y = 0\n",
    "try:\n",
    "    z = x/y\n",
    "    print(x)\n",
    "except:\n",
    "    print(\"You are crazy, you can't divide by zero never!!\")\n",
    "    print(y / x)"
   ]
  },
  {
   "cell_type": "code",
   "execution_count": 4,
   "metadata": {},
   "outputs": [
    {
     "output_type": "stream",
     "name": "stdout",
     "text": [
      "[10, 20, 20]\nSi queremos el último elemento de la lista, seria el  20\n"
     ]
    }
   ],
   "source": [
    "# Modify the code below:\n",
    "#intento1\n",
    "#This is error: list index out of range.\n",
    "abc = [10, 20, 20]\n",
    "try:\n",
    "    print(abc[3])\n",
    "except:\n",
    "    if abc == list(abc):\n",
    "        print(abc)\n",
    "        print(\"Si queremos el último elemento de la lista, seria el \", abc[-1])"
   ]
  },
  {
   "cell_type": "markdown",
   "metadata": {},
   "source": [
    "### Exercise 2. "
   ]
  },
  {
   "cell_type": "markdown",
   "metadata": {},
   "source": [
    "In the 3 cells below, add an if statment that will handle both types of input allowed in the functions."
   ]
  },
  {
   "cell_type": "code",
   "execution_count": 19,
   "metadata": {},
   "outputs": [
    {
     "output_type": "stream",
     "name": "stdout",
     "text": [
      "-1\n"
     ]
    }
   ],
   "source": [
    "# import a library called math with functions, like sqrt() \n",
    "# Modify the code below to handle positive and negative numbers by adding an if statement and performing a transformation:\n",
    " # This function will take any real number and return the square root of its magnitude\n",
    "\n",
    "#Intento MIL\n",
    "\n",
    "def sqrt_for_all(x):\n",
    "    \n",
    "    try:\n",
    "        operacion = int(input(\"Escribe un número negativo\"))\n",
    "        if operacion >= x ** 2:\n",
    "          \n",
    "            print(operacion)\n",
    "        \n",
    "    except Exception as error:\n",
    "        print(error)\n",
    "        pass\n",
    "    return message\n",
    "\n",
    "message = -1\n",
    "z = sqrt_for_all(x = -1)\n",
    "print(z)"
   ]
  },
  {
   "cell_type": "code",
   "execution_count": 5,
   "metadata": {},
   "outputs": [
    {
     "output_type": "stream",
     "name": "stdout",
     "text": [
      "4.0\n"
     ]
    }
   ],
   "source": [
    "#Intento 2\n",
    "\n",
    "import math\n",
    "x = 16\n",
    "y = math.sqrt(x)\n",
    "print(y)"
   ]
  },
  {
   "cell_type": "code",
   "execution_count": 30,
   "metadata": {},
   "outputs": [
    {
     "output_type": "stream",
     "name": "stdout",
     "text": [
      "You can't divide by zero\n0\n"
     ]
    }
   ],
   "source": [
    "# Modify the code below to handle zero as well. In the case of zero, return zero\n",
    " # This function will take any two real numbers and return their quotient. If the denominator is zero, we return zero\n",
    "#Intento MIL!!! \n",
    "def divide(x, y):\n",
    "    \n",
    "    try:\n",
    "       print(x / y)\n",
    "    \n",
    "    except ZeroDivisionError:\n",
    "        print(\"You can't divide by zero\")\n",
    "    return zero\n",
    "  \n",
    "\n",
    "zero = 0\n",
    "r = divide(5, 0)\n",
    "\n",
    "\n",
    "print(zero)"
   ]
  },
  {
   "cell_type": "code",
   "execution_count": 59,
   "metadata": {},
   "outputs": [
    {
     "output_type": "stream",
     "name": "stdout",
     "text": [
      "[11]\nes una lista de un número que es el resultado de la suma de las dos variables dadas\n"
     ]
    }
   ],
   "source": [
    "# Modify the function below that it will take either an number and a list or two numbers. \n",
    "# If we take two numbers, add them together and return a list of length 1. \n",
    "# Otherwise, add the number to every element of the list and return the resulting list\n",
    "\n",
    "#INTENTO MIL - Es una costumbre que me ocurre mucho y gracias a Pythontutor la corrijo, pero siempre me dicen que las variables no se reconocen o tengo la instrucción fuera del sangrado...\n",
    "a = 5\n",
    "l = 6\n",
    "lista = []\n",
    "lista.append(a + l)\n",
    "print(lista)\n",
    "\n",
    "def add_elements(a = 5, l = 6):\n",
    "    return number_or_list\n",
    "\n",
    "number_or_list = \"es una lista de un número que es el resultado de la suma de las dos variables dadas\"\n",
    "z = add_elements(a = 5, l = 6)\n",
    "print(number_or_list)"
   ]
  },
  {
   "cell_type": "markdown",
   "metadata": {},
   "source": [
    "### Exercise 3. \n",
    "\n",
    "Write a function that asks for an integer and prints the square of it. Keep checking while the function gets an integer.\n",
    "\n",
    "Use a `while` loop with a `try/except` block to account for incorrect inputs."
   ]
  },
  {
   "cell_type": "code",
   "execution_count": 62,
   "metadata": {},
   "outputs": [
    {
     "output_type": "stream",
     "name": "stdout",
     "text": [
      "3  :este será el número que lo elevaremos al cuadrado\n3 es tu número seleccionado y al elevarlo al cuadrado, el resultado es:  9\nNone\n"
     ]
    }
   ],
   "source": [
    "#He podido hacer el ejercicio según el número que me daban pudiera elevarlo al cuadrado: \n",
    "def integer(x):\n",
    "    x = input(\"Escribe aquí un número para luego elevarlo al cuadrado: \")\n",
    "    print(x, \" :este será el número que lo elevaremos al cuadrado\") \n",
    "    while True:\n",
    "        try:\n",
    "            x = int(x)\n",
    "            print(f\"{x} es tu número seleccionado y al elevarlo al cuadrado, el resultado es: \", (x ** 2))\n",
    "            break\n",
    "        except:\n",
    "            return incorrect_inputs    # En este caso es si en vez de poner un integer, ponen un str o un float\n",
    "    \n",
    "incorrect_inputs = (\"Se requeria integer number\")\n",
    "z = integer(x = input)\n",
    "print(z)\n"
   ]
  },
  {
   "cell_type": "code",
   "execution_count": null,
   "metadata": {},
   "outputs": [],
   "source": []
  },
  {
   "cell_type": "markdown",
   "metadata": {},
   "source": [
    "### Bonus Track of Practice_7_while. You have another oportunity to solve it! \n",
    "If you did it yesterday, don't worry about it, if you did'nt, you should worry about it now!"
   ]
  },
  {
   "cell_type": "code",
   "execution_count": null,
   "metadata": {},
   "outputs": [],
   "source": []
  },
  {
   "cell_type": "markdown",
   "metadata": {},
   "source": [
    "### Bonus track.\n",
    "\n",
    "1. Make a program using `while` that generates a **deck of cards** of 4 different suits. The deck must have 40 cards.\n",
    "\n",
    "   Develop the program in a `.py` file that will be run through the terminal. \n",
    " \n",
    "   From the folder that contains the corresponding `.py`, it will be executed with the following command:` python3 program_name.py`\n",
    "   Sometimes should work with `python program_name.py`"
   ]
  },
  {
   "cell_type": "markdown",
   "metadata": {},
   "source": [
    "![\"lol\"](https://i.pinimg.com/originals/34/b2/ad/34b2ad1c370539fba5ed9422711cad7b.png)"
   ]
  },
  {
   "cell_type": "code",
   "execution_count": 63,
   "metadata": {},
   "outputs": [
    {
     "output_type": "stream",
     "name": "stdout",
     "text": [
      "[0, 1, 2, 3, 4, 5, 6, 7, 8, 9]\n[0, 1, 2, 3, 4, 5, 6, 7, 8, 9]\n[0, 1, 2, 3, 4, 5, 6, 7, 8, 9]\n[0, 1, 2, 3, 4, 5, 6, 7, 8, 9]\n"
     ]
    }
   ],
   "source": [
    "#Prueba \n",
    "picas = list(range(10))\n",
    "print(picas)\n",
    "rombo = list(range(10))\n",
    "print(rombo)\n",
    "trebol = list(range(10))\n",
    "print(trebol)\n",
    "corazones = list(range(10))\n",
    "print(corazones)"
   ]
  },
  {
   "cell_type": "code",
   "execution_count": 65,
   "metadata": {},
   "outputs": [
    {
     "output_type": "stream",
     "name": "stdout",
     "text": [
      "{'picas': [0, 1, 2, 3, 4, 5, 6, 7, 8, 9], 'rombo': [0, 1, 2, 3, 4, 5, 6, 7, 8, 9], 'trebol': [0, 1, 2, 3, 4, 5, 6, 7, 8, 9], 'corazones': [0, 1, 2, 3, 4, 5, 6, 7, 8, 9]}\n"
     ]
    }
   ],
   "source": [
    "#Ahora voy a unir a una los 4 palos en una baraja de cartas:\n",
    "barajadecartas = {}\n",
    "barajadecartas[\"picas\"] = [0, 1, 2, 3, 4, 5, 6, 7, 8, 9]\n",
    "barajadecartas[\"rombo\"] = [0, 1, 2, 3, 4, 5, 6, 7, 8, 9]\n",
    "barajadecartas[\"trebol\"] = [0, 1, 2, 3, 4, 5, 6, 7, 8, 9]\n",
    "barajadecartas[\"corazones\"] = [0, 1, 2, 3, 4, 5, 6, 7, 8, 9]\n",
    "print(barajadecartas)"
   ]
  },
  {
   "cell_type": "code",
   "execution_count": 69,
   "metadata": {},
   "outputs": [
    {
     "output_type": "stream",
     "name": "stdout",
     "text": [
      "4\npicas [0, 1, 2, 3, 4, 5, 6, 7, 8, 9]\n{'picas': [0, 1, 2, 3, 4, 5, 6, 7, 8, 9], 'rombo': [0, 1, 2, 3, 4, 5, 6, 7, 8, 9], 'trebol': [0, 1, 2, 3, 4, 5, 6, 7, 8, 9], 'corazones': [0, 1, 2, 3, 4, 5, 6, 7, 8, 9]}\n"
     ]
    }
   ],
   "source": [
    "#Mi idea era conseguir la baraja de cartas así - PERO ME HA SALIDO EL WHILE INFINITO!!!! ASÍ que le he tenido que añadir un CASO BASE con un return, ¿seria correcto??\n",
    "barajadecartas = {'picas': [0, 1, 2, 3, 4, 5, 6, 7, 8, 9], 'rombo': [0, 1, 2, 3, 4, 5, 6, 7, 8, 9], 'trebol': [0, 1, 2, 3, 4, 5, 6, 7, 8, 9], 'corazones': [0, 1, 2, 3, 4, 5, 6, 7, 8, 9]}\n",
    "print(len(barajadecartas))\n",
    "\n",
    "def conseguirbaraja():\n",
    "\n",
    "    while True:\n",
    "        try:\n",
    "            for k, v in barajadecartas.items():\n",
    "                print(k, v)\n",
    "                k <= len(k(4))\n",
    "                v <= len(v(10))\n",
    "                break\n",
    "        except:\n",
    "            return caso_base\n",
    "\n",
    "caso_base = barajadecartas\n",
    "z = conseguirbaraja()\n",
    "print(z)"
   ]
  },
  {
   "cell_type": "code",
   "execution_count": null,
   "metadata": {},
   "outputs": [],
   "source": []
  }
 ],
 "metadata": {
  "kernelspec": {
   "name": "python3",
   "display_name": "Python 3.9.0 64-bit",
   "metadata": {
    "interpreter": {
     "hash": "aee8b7b246df8f9039afb4144a1f6fd8d2ca17a180786b69acc140d282b71a49"
    }
   }
  },
  "language_info": {
   "codemirror_mode": {
    "name": "ipython",
    "version": 3
   },
   "file_extension": ".py",
   "mimetype": "text/x-python",
   "name": "python",
   "nbconvert_exporter": "python",
   "pygments_lexer": "ipython3",
   "version": "3.9.0-final"
  }
 },
 "nbformat": 4,
 "nbformat_minor": 4
}