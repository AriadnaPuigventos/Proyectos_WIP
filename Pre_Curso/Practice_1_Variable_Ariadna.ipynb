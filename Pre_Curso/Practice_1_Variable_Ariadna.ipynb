{
  "nbformat": 4,
  "nbformat_minor": 0,
  "metadata": {
    "kernelspec": {
      "name": "python3",
      "display_name": "Python 3.9.0 64-bit",
      "metadata": {
        "interpreter": {
          "hash": "aee8b7b246df8f9039afb4144a1f6fd8d2ca17a180786b69acc140d282b71a49"
        }
      }
    },
    "language_info": {
      "codemirror_mode": {
        "name": "ipython",
        "version": 3
      },
      "file_extension": ".py",
      "mimetype": "text/x-python",
      "name": "python",
      "nbconvert_exporter": "python",
      "pygments_lexer": "ipython3",
      "version": "3.9.0-final"
    },
    "colab": {
      "name": "Practice_1_Variable.ipynb",
      "provenance": []
    }
  },
  "cells": [
    {
      "cell_type": "markdown",
      "metadata": {
        "id": "W2FzugiUacvQ"
      },
      "source": [
        "# Python | day 1 | variables"
      ]
    },
    {
      "cell_type": "markdown",
      "metadata": {
        "id": "jdDFiwbnacvS"
      },
      "source": [
        "Variables are nothing but reserved memory locations to store values. This means that when you create a variable you reserve some space in memory.\n",
        "\n",
        "Based on the data type of a variable, the interpreter allocates memory and decides what can be stored in the reserved memory. Therefore, by assigning different data types to variables, you can store integers, decimals or characters in these variables."
      ]
    },
    {
      "cell_type": "markdown",
      "metadata": {
        "id": "qYUau3WracvT"
      },
      "source": [
        "### Exercise 1.\n",
        "\n",
        "1. Write a python comment saying _'My very first python code:'_"
      ]
    },
    {
      "cell_type": "code",
      "metadata": {
        "id": "-b29-VMpacvT"
      },
      "source": [
        "# My very first python code:"
      ],
      "execution_count": null,
      "outputs": []
    },
    {
      "cell_type": "markdown",
      "metadata": {
        "id": "zf4RH1PcacvW"
      },
      "source": [
        "2. Declare a **first name** variable and assign a value to it\n"
      ]
    },
    {
      "cell_type": "code",
      "metadata": {
        "id": "I5DEekgmacvW"
      },
      "source": [
        "first_name = \"Ariadna\""
      ],
      "execution_count": null,
      "outputs": []
    },
    {
      "cell_type": "markdown",
      "metadata": {
        "id": "IVlJUEV-acvY"
      },
      "source": [
        "3. Declare a **last name** variable and assign a value to it\n"
      ]
    },
    {
      "cell_type": "code",
      "metadata": {
        "id": "BpDO4m77acvZ"
      },
      "source": [
        "last_name = 'Puigventós'"
      ],
      "execution_count": null,
      "outputs": []
    },
    {
      "cell_type": "markdown",
      "metadata": {
        "id": "vzMEfLijacvb"
      },
      "source": [
        "4. Declare a **full name** variable and assign a value to it\n"
      ]
    },
    {
      "cell_type": "code",
      "metadata": {
        "id": "IzolNZqmacvb"
      },
      "source": [
        "full_name = 'Ariadna Puigventós'"
      ],
      "execution_count": null,
      "outputs": []
    },
    {
      "cell_type": "markdown",
      "metadata": {
        "id": "7Ys6ybxsacvd"
      },
      "source": [
        "5. Declare a **country** variable and assign a value to it"
      ]
    },
    {
      "cell_type": "code",
      "metadata": {
        "id": "Hz7obcKkacvd"
      },
      "source": [
        "country = 'Honolulu' "
      ],
      "execution_count": null,
      "outputs": []
    },
    {
      "cell_type": "markdown",
      "metadata": {
        "id": "HO16QKA-acvf"
      },
      "source": [
        "6. Declare a **city** variable and assign a value to it"
      ]
    },
    {
      "cell_type": "code",
      "metadata": {
        "id": "qg6IDHoMacvg"
      },
      "source": [
        "city = 'New York'"
      ],
      "execution_count": null,
      "outputs": []
    },
    {
      "cell_type": "markdown",
      "metadata": {
        "id": "hEHNxxtCacvi"
      },
      "source": [
        "7. Declare an **age** variable and assign a value to it"
      ]
    },
    {
      "cell_type": "code",
      "metadata": {
        "id": "S4ncwWBvacvj"
      },
      "source": [
        "age = 34"
      ],
      "execution_count": null,
      "outputs": []
    },
    {
      "cell_type": "markdown",
      "metadata": {
        "id": "s61lZ3XSacvl"
      },
      "source": [
        "8. Declare a **year** variable and assign a value to it"
      ]
    },
    {
      "cell_type": "code",
      "metadata": {
        "id": "3wAV987xacvl"
      },
      "source": [
        "year = 1986"
      ],
      "execution_count": null,
      "outputs": []
    },
    {
      "cell_type": "markdown",
      "metadata": {
        "id": "Ic-fG-b5acvm"
      },
      "source": [
        "9. Declare a variable **is_married** and assign a value to it"
      ]
    },
    {
      "cell_type": "code",
      "metadata": {
        "id": "BJZvMzevacvn"
      },
      "source": [
        "is_married = 'nop'"
      ],
      "execution_count": null,
      "outputs": []
    },
    {
      "cell_type": "markdown",
      "metadata": {
        "id": "YpEC8LDqacvo"
      },
      "source": [
        "10. Declare a variable **is_true** and assign a value to it"
      ]
    },
    {
      "cell_type": "code",
      "metadata": {
        "id": "byxaybywacvp"
      },
      "source": [
        "is_true = 5"
      ],
      "execution_count": null,
      "outputs": []
    },
    {
      "cell_type": "markdown",
      "metadata": {
        "id": "-eiIPh43acvq"
      },
      "source": [
        "11. Declare a variable **is_light_on** and assign a value to it"
      ]
    },
    {
      "cell_type": "code",
      "metadata": {
        "id": "Sjml5AQpacvr"
      },
      "source": [
        "is_light_on = 2"
      ],
      "execution_count": null,
      "outputs": []
    },
    {
      "cell_type": "markdown",
      "metadata": {
        "id": "3ewQyWBjacvs"
      },
      "source": [
        "## Exercise 2. \n",
        "\n",
        "1. Check the data type of all your variables using `type()` built-in function\n"
      ]
    },
    {
      "cell_type": "code",
      "metadata": {
        "id": "-B1tzzxsacvt"
      },
      "source": [
        "#Intento1\n",
        "\n",
        "Print(type(first_name, last_name, full_name, country, city, age, year, is_married, is_true, is_light_on))\n",
        "\n",
        "#Intento1.1\n",
        "\n",
        "Print(type(first_name + last_name + full_name + country + city + age + year + is_married + is_true + is_light_on))\n",
        "\n",
        "#Intento2\n",
        "\n",
        "Type(first_name)\n",
        "\n",
        "#Intento3\n",
        "\n",
        "Print(type(first_name))"
      ],
      "execution_count": null,
      "outputs": []
    },
    {
      "cell_type": "markdown",
      "metadata": {
        "id": "Zqcn6WLbacvv"
      },
      "source": [
        "Turn the variable **age**, which should be *integer*, into type *float*. This action is known as cast a variable."
      ]
    },
    {
      "cell_type": "code",
      "metadata": {
        "id": "X0Hewa43acvv"
      },
      "source": [
        "#Intento4\n",
        "type(first_name)\n",
        "type(last_name)\n",
        "type(full_name)\n",
        "type(country)\n",
        "type(city)\n",
        "type(age)\n",
        "type(year)\n",
        "type(is_married)\n",
        "type(is_true)\n",
        "type(is_light_on)"
      ],
      "execution_count": null,
      "outputs": []
    },
    {
      "cell_type": "markdown",
      "metadata": {
        "id": "_BwPDzGgacvx"
      },
      "source": [
        "2. Using the `len()` built-in function find the length of your first name\n"
      ]
    },
    {
      "cell_type": "code",
      "metadata": {
        "id": "v1YvqqdJacvx"
      },
      "source": [
        "len(first_name)"
      ],
      "execution_count": 49,
      "outputs": [
        {
          "output_type": "execute_result",
          "data": {
            "text/plain": [
              "7"
            ]
          },
          "metadata": {},
          "execution_count": 49
        }
      ]
    },
    {
      "cell_type": "markdown",
      "metadata": {
        "id": "4XjHRJsuacvy"
      },
      "source": [
        "3. Compare the length of your first name and your last name\n"
      ]
    },
    {
      "cell_type": "code",
      "metadata": {
        "id": "4WbmIAMxacvz"
      },
      "source": [
        "len(last_name)\n"
      ],
      "execution_count": 48,
      "outputs": [
        {
          "output_type": "execute_result",
          "data": {
            "text/plain": [
              "10"
            ]
          },
          "metadata": {},
          "execution_count": 48
        }
      ]
    },
    {
      "cell_type": "code",
      "execution_count": 50,
      "metadata": {},
      "outputs": [
        {
          "output_type": "execute_result",
          "data": {
            "text/plain": [
              "False"
            ]
          },
          "metadata": {},
          "execution_count": 50
        }
      ],
      "source": [
        "first_name==last_name"
      ]
    },
    {
      "cell_type": "code",
      "execution_count": 52,
      "metadata": {},
      "outputs": [
        {
          "output_type": "stream",
          "name": "stdout",
          "text": [
            "7 comparado con 10\n"
          ]
        }
      ],
      "source": [
        "i = \"comparado con\"\n",
        "print(len (first_name), i, (len (last_name)))"
      ]
    },
    {
      "cell_type": "markdown",
      "metadata": {
        "id": "o-_nzTUNacv0"
      },
      "source": [
        "4. Declare 5 as **num_one** and 4 as **num_two**\n"
      ]
    },
    {
      "cell_type": "code",
      "execution_count": 53,
      "metadata": {},
      "outputs": [],
      "source": [
        "num_one = 5\n",
        "num_two = 4"
      ]
    },
    {
      "cell_type": "markdown",
      "metadata": {
        "id": "K0_42rAhacv2"
      },
      "source": [
        "5. Add **num_one** and **num_two** and assign the value to a variable **_total**\n"
      ]
    },
    {
      "cell_type": "code",
      "metadata": {
        "id": "4J5rWJrEacv3"
      },
      "source": [
        "#Intento1\n",
        "variable_total = num_two.add(num_one)"
      ],
      "execution_count": 54,
      "outputs": [
        {
          "output_type": "error",
          "ename": "AttributeError",
          "evalue": "'int' object has no attribute 'add'",
          "traceback": [
            "\u001b[0;31m---------------------------------------------------------------------------\u001b[0m",
            "\u001b[0;31mAttributeError\u001b[0m                            Traceback (most recent call last)",
            "\u001b[0;32m<ipython-input-54-bbe1678751e3>\u001b[0m in \u001b[0;36m<module>\u001b[0;34m\u001b[0m\n\u001b[0;32m----> 1\u001b[0;31m \u001b[0mvariable_total\u001b[0m \u001b[0;34m=\u001b[0m \u001b[0mnum_two\u001b[0m\u001b[0;34m.\u001b[0m\u001b[0madd\u001b[0m\u001b[0;34m(\u001b[0m\u001b[0mnum_one\u001b[0m\u001b[0;34m)\u001b[0m\u001b[0;34m\u001b[0m\u001b[0;34m\u001b[0m\u001b[0m\n\u001b[0m",
            "\u001b[0;31mAttributeError\u001b[0m: 'int' object has no attribute 'add'"
          ]
        }
      ]
    },
    {
      "cell_type": "code",
      "execution_count": 57,
      "metadata": {},
      "outputs": [
        {
          "output_type": "stream",
          "name": "stdout",
          "text": [
            "9\n"
          ]
        }
      ],
      "source": [
        "#Intento2\n",
        "\n",
        "variable_total = num_one + num_two\n",
        "print(variable_total)"
      ]
    },
    {
      "cell_type": "markdown",
      "metadata": {
        "id": "Vr0fCL19acv4"
      },
      "source": [
        "6. Subtract num_two from num_one and assign the value to a variable _diff\n"
      ]
    },
    {
      "cell_type": "code",
      "metadata": {
        "id": "wzu2WrIXacv4"
      },
      "source": [
        "#Intento1\n",
        "variable_diff = num_two - num_one\n",
        "print(variable_diff)"
      ],
      "execution_count": 58,
      "outputs": [
        {
          "output_type": "stream",
          "name": "stdout",
          "text": [
            "-1\n"
          ]
        }
      ]
    },
    {
      "cell_type": "markdown",
      "metadata": {
        "id": "sgol6F5Cacv6"
      },
      "source": [
        "7. Multiply **num_two** and **num_one** and assign the value to a variable **_product**\n"
      ]
    },
    {
      "cell_type": "code",
      "metadata": {
        "id": "Spt8ZlzSacv6"
      },
      "source": [
        "#Intento1\n",
        "\n",
        "variable_product = num_two * num_one\n",
        "print(variable_product)"
      ],
      "execution_count": 61,
      "outputs": [
        {
          "output_type": "stream",
          "name": "stdout",
          "text": [
            "20\n"
          ]
        }
      ]
    },
    {
      "cell_type": "markdown",
      "metadata": {
        "id": "xMUFIzuzacv8"
      },
      "source": [
        "8. Divide **num_one** by **num_two** and assign the value to a variable **_division**\n"
      ]
    },
    {
      "cell_type": "code",
      "metadata": {
        "id": "7lwZrXxLacv8"
      },
      "source": [
        "#Intento1 con división absoluta\n",
        "\n",
        "variable_division = num_one // num_two\n",
        "print(variable_division)"
      ],
      "execution_count": 62,
      "outputs": [
        {
          "output_type": "stream",
          "name": "stdout",
          "text": [
            "1\n"
          ]
        }
      ]
    },
    {
      "cell_type": "markdown",
      "metadata": {
        "id": "sgYACyuCacv-"
      },
      "source": [
        "9. Use modulus division to find **num_two** divided by **num_one** and assign the value to a variable **_remainder**\n"
      ]
    },
    {
      "cell_type": "code",
      "execution_count": 69,
      "metadata": {},
      "outputs": [
        {
          "output_type": "stream",
          "name": "stdout",
          "text": [
            "4\n"
          ]
        }
      ],
      "source": [
        "#Intento2 después de encontrar \"ORO\"\n",
        "\n",
        "variable_remainder = num_two % num_one\n",
        "print(variable_remainder)"
      ]
    },
    {
      "cell_type": "code",
      "metadata": {
        "id": "9wc0ERKYacv-"
      },
      "source": [
        "#Intento1\n",
        "\n",
        "variable_remainder = num_two / num_one\n",
        "print(variable_remainder)"
      ],
      "execution_count": 63,
      "outputs": [
        {
          "output_type": "stream",
          "name": "stdout",
          "text": [
            "0.8\n"
          ]
        }
      ]
    },
    {
      "cell_type": "code",
      "execution_count": 64,
      "metadata": {},
      "outputs": [
        {
          "output_type": "execute_result",
          "data": {
            "text/plain": [
              "float"
            ]
          },
          "metadata": {},
          "execution_count": 64
        }
      ],
      "source": [
        "type(variable_remainder)"
      ]
    },
    {
      "cell_type": "code",
      "execution_count": 68,
      "metadata": {},
      "outputs": [
        {
          "output_type": "stream",
          "name": "stdout",
          "text": [
            "0\n"
          ]
        }
      ],
      "source": [
        "print(int(variable_remainder))"
      ]
    },
    {
      "cell_type": "markdown",
      "metadata": {
        "id": "n1Y6U8gWacwA"
      },
      "source": [
        "10. Calculate **num_one** to the power of **num_two** and assign the value to variable **_exp**\n"
      ]
    },
    {
      "cell_type": "code",
      "metadata": {
        "id": "E9cscJ6CacwB"
      },
      "source": [
        "#Intento1\n",
        "\n",
        "variable_exp = num_one ** num_two\n",
        "print(variable_exp)"
      ],
      "execution_count": 70,
      "outputs": [
        {
          "output_type": "stream",
          "name": "stdout",
          "text": [
            "625\n"
          ]
        }
      ]
    },
    {
      "cell_type": "markdown",
      "metadata": {
        "id": "fj7-eNcpacwD"
      },
      "source": [
        "11. Find floor division of **num_one** by **num_two** and assign the value to a variable **_floor_division**\n"
      ]
    },
    {
      "cell_type": "code",
      "metadata": {
        "id": "fijg_y7KacwD"
      },
      "source": [
        "#Intento1\n",
        "\n",
        "variable_floor_division = num_one // num_two\n",
        "print(variable_floor_division)"
      ],
      "execution_count": 71,
      "outputs": [
        {
          "output_type": "stream",
          "name": "stdout",
          "text": [
            "1\n"
          ]
        }
      ]
    },
    {
      "cell_type": "markdown",
      "metadata": {
        "id": "IxzPQeNracwF"
      },
      "source": [
        "## Bonus track. "
      ]
    },
    {
      "cell_type": "markdown",
      "metadata": {
        "id": "deIw0S8TacwF"
      },
      "source": [
        "12. The radius of a circle is 30 meters. \n",
        "    Calculate the area of a circle and assign the value to a variable **area_of_circle**"
      ]
    },
    {
      "cell_type": "code",
      "metadata": {
        "id": "bl7VpLRoacwF"
      },
      "source": [
        "#Intento1 he hallado la fórmula del área de un círculo\n",
        "\n",
        "radius = 30\n",
        "area_of_circle = 3.14 * (radius ** 2)\n",
        "print(area_of_circle)"
      ],
      "execution_count": 72,
      "outputs": [
        {
          "output_type": "stream",
          "name": "stdout",
          "text": [
            "2826.0\n"
          ]
        }
      ]
    },
    {
      "cell_type": "markdown",
      "metadata": {
        "id": "bUpJtNIbacwH"
      },
      "source": [
        "13. Calculate the circumference of a circle and assign the value to a variable **circum_of_circle**\n"
      ]
    },
    {
      "cell_type": "code",
      "metadata": {
        "id": "W5rgoHowacwH"
      },
      "source": [
        "#Intento1 he hallado la fórmula de la circumferencia de un círculo. Es una equación en la cuál X es circumferencia dividido por el diámetro para obtener el núm. PI 3.14\n",
        "x = circumferencia\n",
        "diametro = radius * 2\n",
        "pi = 3.14\n",
        "\n",
        "x = 3.14 * (radius * 2)\n",
        "print(x)"
      ],
      "execution_count": 73,
      "outputs": [
        {
          "output_type": "error",
          "ename": "NameError",
          "evalue": "name 'circumferencia' is not defined",
          "traceback": [
            "\u001b[0;31m---------------------------------------------------------------------------\u001b[0m",
            "\u001b[0;31mNameError\u001b[0m                                 Traceback (most recent call last)",
            "\u001b[0;32m<ipython-input-73-eef66a07bd3c>\u001b[0m in \u001b[0;36m<module>\u001b[0;34m\u001b[0m\n\u001b[1;32m      1\u001b[0m \u001b[0;31m#Intento1 he hallado la fórmula de la circumferencia de un círculo. Es una equación en la cuál X es circumferencia dividido por el diámetro para obtener el núm. PI 3.14\u001b[0m\u001b[0;34m\u001b[0m\u001b[0;34m\u001b[0m\u001b[0;34m\u001b[0m\u001b[0m\n\u001b[0;32m----> 2\u001b[0;31m \u001b[0mx\u001b[0m \u001b[0;34m=\u001b[0m \u001b[0mcircumferencia\u001b[0m\u001b[0;34m\u001b[0m\u001b[0;34m\u001b[0m\u001b[0m\n\u001b[0m\u001b[1;32m      3\u001b[0m \u001b[0mdiametro\u001b[0m \u001b[0;34m=\u001b[0m \u001b[0mradius\u001b[0m \u001b[0;34m*\u001b[0m \u001b[0;36m2\u001b[0m\u001b[0;34m\u001b[0m\u001b[0;34m\u001b[0m\u001b[0m\n\u001b[1;32m      4\u001b[0m \u001b[0mpi\u001b[0m \u001b[0;34m=\u001b[0m \u001b[0;36m3.14\u001b[0m\u001b[0;34m\u001b[0m\u001b[0;34m\u001b[0m\u001b[0m\n\u001b[1;32m      5\u001b[0m \u001b[0;34m\u001b[0m\u001b[0m\n",
            "\u001b[0;31mNameError\u001b[0m: name 'circumferencia' is not defined"
          ]
        }
      ]
    },
    {
      "cell_type": "code",
      "execution_count": 76,
      "metadata": {},
      "outputs": [
        {
          "output_type": "stream",
          "name": "stdout",
          "text": [
            "188.4\n"
          ]
        }
      ],
      "source": [
        "#Intento2 la misma lógica pero cambiando la X ya que le dado dos valores distintos\n",
        "\n",
        "diametro = radius * 2\n",
        "pi = 3.14\n",
        "\n",
        "x = pi * (radius * 2)\n",
        "print(x)"
      ]
    },
    {
      "cell_type": "markdown",
      "metadata": {
        "id": "7WMePpSJacwI"
      },
      "source": [
        "14. Take radius as user input and calculate the area.\n"
      ]
    },
    {
      "cell_type": "code",
      "metadata": {
        "id": "twAW7MRUacwJ"
      },
      "source": [
        ""
      ],
      "execution_count": null,
      "outputs": []
    },
    {
      "cell_type": "markdown",
      "metadata": {
        "id": "gf-IR318acwK"
      },
      "source": [
        "15. Use the built-in input function to get first name, last name, country and age from a user and store the value to their corresponding variable names\n"
      ]
    },
    {
      "cell_type": "code",
      "metadata": {
        "id": "bAr0fO4YacwL"
      },
      "source": [
        "#Intento3\n",
        "first_name = ('What is your name: ')\n",
        "last_name = 'What is your surname: '\n",
        "country = 'Where are you from: '\n",
        "age = 'How old are you?: '\n",
        "\n",
        "first_name = input ('What is your name: ')\n",
        "last_name = input ('What is your surname: ')\n",
        "country = input ('Where are you from: ')\n",
        "age = input ('How old are you?: ')\n",
        "\n",
        "print(first_name, last_name, country, age)"
      ],
      "execution_count": 80,
      "outputs": [
        {
          "output_type": "stream",
          "name": "stdout",
          "text": [
            "   \n"
          ]
        }
      ]
    },
    {
      "cell_type": "markdown",
      "metadata": {
        "id": "kA2zTP2UacwM"
      },
      "source": [
        "16. What is a reserved word in Python? Run `help('keywords')` to check for the reserved words. "
      ]
    },
    {
      "cell_type": "code",
      "metadata": {
        "id": "HrG_WMCSacwM"
      },
      "source": [
        "# Son las marcadas por el lenguaje propio de Python, las que usa el interprete para ejecutar las funciones que le decimos. Normalmente son como print, del, elif, etc."
      ],
      "execution_count": null,
      "outputs": []
    },
    {
      "cell_type": "markdown",
      "metadata": {
        "id": "Jd6eqRggacwO"
      },
      "source": [
        "**Well done!**"
      ]
    },
    {
      "cell_type": "markdown",
      "metadata": {
        "id": "fGzMXeZyacwO"
      },
      "source": [
        "![h](https://i.pinimg.com/originals/11/b4/20/11b420fbf1595be3056ad6355277933c.jpg)"
      ]
    },
    {
      "cell_type": "code",
      "metadata": {
        "id": "GORYYiNsacwO"
      },
      "source": [
        "x = \"trick or \"\n",
        "y = \"treat\"\n",
        "googling = x + y\n",
        "print(googling)"
      ],
      "execution_count": null,
      "outputs": []
    }
  ]
}