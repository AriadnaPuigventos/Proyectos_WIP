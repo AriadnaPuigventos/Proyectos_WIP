{
 "cells": [
  {
   "cell_type": "markdown",
   "metadata": {},
   "source": [
    "# Python | day 7 | while"
   ]
  },
  {
   "cell_type": "markdown",
   "metadata": {},
   "source": [
    "With the **while** loop we can execute a set of statements as long as a condition is true."
   ]
  },
  {
   "cell_type": "markdown",
   "metadata": {},
   "source": [
    "```python\n",
    "i = 1\n",
    "while i < 6:\n",
    "  print(i)\n",
    "  i += 1\n",
    "```"
   ]
  },
  {
   "cell_type": "markdown",
   "metadata": {},
   "source": [
    "https://www.w3schools.com/python/python_while_loops.asp"
   ]
  },
  {
   "cell_type": "markdown",
   "metadata": {},
   "source": [
    "### Exercise 1. "
   ]
  },
  {
   "cell_type": "markdown",
   "metadata": {},
   "source": [
    "Do as described below:\n",
    "\n",
    "- Make a variable called strength, and set its initial value to 5.\n",
    "\n",
    "- Print a message reporting the player's strength.\n",
    "\n",
    "- Set up a while loop that runs until the player's strength increases to a value such as 10.\n",
    "\n",
    "- Inside the while loop, print a message that reports the player's current strength.\n",
    "\n",
    "- Inside the while loop, write a statement that increases the player's strength.\n",
    "\n",
    "- Outside the while loop, print a message reporting that the player has grown too strong, and that they have moved up to a new level of the game.\n",
    "\n",
    "Play around with different cutoff levels for the value of strength, and play around with different ways to increase the strength value within the while loop.\n"
   ]
  },
  {
   "cell_type": "code",
   "execution_count": 15,
   "metadata": {},
   "outputs": [
    {
     "output_type": "stream",
     "name": "stdout",
     "text": [
      "Evolucion:  ['7']\n",
      "El jugador va ganando fuerza\n",
      "El jugador tiene más fuerza y pasa de nivel\n"
     ]
    }
   ],
   "source": [
    "#Mil intentos - AQUÍ TENGO UNA PREGUNTA!!\n",
    "\n",
    "current = (input (\"Cuánta fuerza tiene el jugador actualmemte del 5 al 10?:\"))\n",
    "evolucion = [current]\n",
    "print(\"Evolucion: \", evolucion)\n",
    "\n",
    "strength = str(5)\n",
    "lista = str([5, 6, 7, 8, 9, 10])\n",
    "\n",
    "i = 0\n",
    "while True:\n",
    "    if i == (current >= str(5) and current <= str(10)): \n",
    "        print(\"El jugador va ganando fuerza\")\n",
    "        fuerza = input(\"¿Y, ahora cuánta fuerza tiene el jugador de 5 a 10?: \")\n",
    "        i += 1\n",
    "       \n",
    "    else: \n",
    "        nivel = (\"El jugador tiene más fuerza y pasa de nivel\") \n",
    "        print(nivel) \n",
    "        break"
   ]
  },
  {
   "cell_type": "code",
   "execution_count": 6,
   "metadata": {},
   "outputs": [
    {
     "output_type": "execute_result",
     "data": {
      "text/plain": [
       "[5, 6, 7, 8, 9, 10]"
      ]
     },
     "metadata": {},
     "execution_count": 6
    }
   ],
   "source": [
    "list(range(5, 11))"
   ]
  },
  {
   "cell_type": "markdown",
   "metadata": {},
   "source": [
    "### Exercise 2. "
   ]
  },
  {
   "cell_type": "markdown",
   "metadata": {},
   "source": [
    "To solve the following exercises it will be necessary to define a function for each section. You choose the name of those functions unless specified, but make sure you define a single parameter `whichever_list`, when calling the function it will correspond to the variable `info_list`."
   ]
  },
  {
   "cell_type": "code",
   "execution_count": 5,
   "metadata": {},
   "outputs": [],
   "source": [
    "# you can use this list or take yours from Practice 3\n",
    "info_list = [15, 'Recoletos', True, ['Recoletos', 15],  None, '8'] "
   ]
  },
  {
   "cell_type": "markdown",
   "metadata": {},
   "source": [
    "You have already read these questions below, but this time you are asked to solve it using `while` loop instead of `for`. \n",
    "\n",
    "   - Loop through `whichever_list` to print all the elements it contains. This function should return the list turned into a tuple. \n",
    "   - Loop through `whichever_list` to print all the elements it contains concatenated with the string` \"--> OK\" `. This function should return a message saying, `\"everything will be ok\"`. \n",
    "   - Loop through `whichever_list` to display all items it contains except the first one. This function should return the first element of the list. \n",
    "   - Loop through `whichever_list` to display all the items it contains except the last one. This function should return the last element of the list. "
   ]
  },
  {
   "cell_type": "code",
   "execution_count": 16,
   "metadata": {},
   "outputs": [
    {
     "output_type": "stream",
     "name": "stdout",
     "text": [
      "15\nRecoletos\nTrue\n['Recoletos', 15]\nNone\n8\n(15, 'Recoletos', True, ['Recoletos', 15], None, '8')\n"
     ]
    }
   ],
   "source": [
    "#Intento100\n",
    "info_list = [15, 'Recoletos', True, ['Recoletos', 15],  None, '8']\n",
    "\n",
    "def whichever_list(info_list):\n",
    "    contador = 0\n",
    "    while contador <= 5:\n",
    "        print(info_list[contador])\n",
    "        contador += 1\n",
    "              \n",
    "    return message\n",
    "\n",
    "message = tuple(info_list)\n",
    "z = whichever_list(info_list)\n",
    "print(z)"
   ]
  },
  {
   "cell_type": "code",
   "execution_count": 17,
   "metadata": {},
   "outputs": [
    {
     "output_type": "stream",
     "name": "stdout",
     "text": [
      "15 , OK\nRecoletos , OK\nTrue , OK\n['Recoletos', 15] , OK\nNone , OK\n8 , OK\neverything will be ok\n"
     ]
    }
   ],
   "source": [
    "#Intento1\n",
    "info_list = [15, 'Recoletos', True, ['Recoletos', 15],  None, '8']\n",
    "\n",
    "def whichever_list(info_list):\n",
    "    contador = 0\n",
    "    while contador <= 5:\n",
    "        print(info_list[contador], \",\", (str(\"OK\")))\n",
    "        contador += 1\n",
    "              \n",
    "    return message\n",
    "\n",
    "message = \"everything will be ok\"\n",
    "z = whichever_list(info_list)\n",
    "print(z)"
   ]
  },
  {
   "cell_type": "code",
   "execution_count": 18,
   "metadata": {},
   "outputs": [
    {
     "output_type": "stream",
     "name": "stdout",
     "text": [
      "Recoletos\nTrue\n['Recoletos', 15]\nNone\n8\n15\n"
     ]
    }
   ],
   "source": [
    "#intento (NO SE CUÁNTOS LLEVO - HE PERDIDO LA CUENTA) - HE APROVECHADO QUE COMO VOY TARDE CON LA TASK DE TRY EXCEPT, OS LA HE AÑADIDO AQUÍ TAMBIÉN ;)\n",
    "\n",
    "info_list = [15, 'Recoletos', True, ['Recoletos', 15],  None, '8']\n",
    "\n",
    "def whichever_list(info_list):\n",
    "    try:\n",
    "        info_list.remove(15)\n",
    "        contador = 0\n",
    "        while contador <= len(info_list): \n",
    "            print(info_list[contador])\n",
    "            contador += 1\n",
    "            \n",
    "            if contador == 5:\n",
    "                break\n",
    "    except:\n",
    "        print(info_list[0])\n",
    "        \n",
    "    return message    \n",
    "\n",
    "message = (info_list[0])\n",
    "z = whichever_list(info_list)\n",
    "print(z)"
   ]
  },
  {
   "cell_type": "code",
   "execution_count": 27,
   "metadata": {},
   "outputs": [
    {
     "output_type": "stream",
     "name": "stdout",
     "text": [
      "15\nRecoletos\nTrue\n['Recoletos', 15]\nNone\n('8', 'Esta es la 2a parte de la pregunta, no forma parte de la lista ;)')\n"
     ]
    }
   ],
   "source": [
    "#Intento1\n",
    "info_list = [15, 'Recoletos', True, ['Recoletos', 15],  None, '8']\n",
    "\n",
    "def whichever_list(info_list):\n",
    "    try:\n",
    "        info_list.pop(-1)\n",
    "        contador = 0\n",
    "        while contador <= len(info_list): \n",
    "            print(info_list[contador])\n",
    "            contador += 1\n",
    "            \n",
    "            if contador == 5:\n",
    "                break\n",
    "    except:\n",
    "        print(info_list[-1])\n",
    "        \n",
    "    return message    \n",
    "\n",
    "message = (info_list[-1], \"Esta es la 2a parte de la pregunta, no forma parte de la lista ;)\")\n",
    "z = whichever_list(info_list)\n",
    "print(z)"
   ]
  },
  {
   "cell_type": "code",
   "execution_count": null,
   "metadata": {},
   "outputs": [],
   "source": []
  },
  {
   "cell_type": "markdown",
   "metadata": {},
   "source": [
    "### Exercise 3. "
   ]
  },
  {
   "cell_type": "markdown",
   "metadata": {},
   "source": [
    "1. Define a function that performs the [Fibonacci series](https://quantdare.com/numeros-de-fibonacci/#:~:text=En%20matem%C3%A1ticas%2C%20la%20sucesi%C3%B3n%20o,nombre%20de%20n%C3%BAmero%20de%20Fibonacci.) with a `while`."
   ]
  },
  {
   "cell_type": "code",
   "execution_count": 26,
   "metadata": {},
   "outputs": [
    {
     "output_type": "error",
     "ename": "RecursionError",
     "evalue": "maximum recursion depth exceeded",
     "traceback": [
      "\u001b[0;31m---------------------------------------------------------------------------\u001b[0m",
      "\u001b[0;31mRecursionError\u001b[0m                            Traceback (most recent call last)",
      "\u001b[0;32m<ipython-input-26-af91208f9eac>\u001b[0m in \u001b[0;36m<module>\u001b[0;34m\u001b[0m\n\u001b[1;32m     10\u001b[0m \u001b[0;34m\u001b[0m\u001b[0m\n\u001b[1;32m     11\u001b[0m \u001b[0mSumaDosAnteriores\u001b[0m \u001b[0;34m=\u001b[0m \u001b[0mlista\u001b[0m\u001b[0;34m\u001b[0m\u001b[0;34m\u001b[0m\u001b[0m\n\u001b[0;32m---> 12\u001b[0;31m \u001b[0mz\u001b[0m \u001b[0;34m=\u001b[0m \u001b[0mfib\u001b[0m\u001b[0;34m(\u001b[0m\u001b[0mlista\u001b[0m\u001b[0;34m)\u001b[0m\u001b[0;34m\u001b[0m\u001b[0;34m\u001b[0m\u001b[0m\n\u001b[0m\u001b[1;32m     13\u001b[0m \u001b[0mprint\u001b[0m\u001b[0;34m(\u001b[0m\u001b[0mz\u001b[0m\u001b[0;34m)\u001b[0m\u001b[0;34m\u001b[0m\u001b[0;34m\u001b[0m\u001b[0m\n\u001b[1;32m     14\u001b[0m \u001b[0;34m\u001b[0m\u001b[0m\n",
      "\u001b[0;32m<ipython-input-26-af91208f9eac>\u001b[0m in \u001b[0;36mfib\u001b[0;34m(lista)\u001b[0m\n\u001b[1;32m      3\u001b[0m \u001b[0;32mdef\u001b[0m \u001b[0mfib\u001b[0m\u001b[0;34m(\u001b[0m\u001b[0mlista\u001b[0m\u001b[0;34m)\u001b[0m\u001b[0;34m:\u001b[0m\u001b[0;34m\u001b[0m\u001b[0;34m\u001b[0m\u001b[0m\n\u001b[1;32m      4\u001b[0m     \u001b[0macum\u001b[0m \u001b[0;34m=\u001b[0m \u001b[0;36m0\u001b[0m\u001b[0;34m\u001b[0m\u001b[0;34m\u001b[0m\u001b[0m\n\u001b[0;32m----> 5\u001b[0;31m     \u001b[0;32mwhile\u001b[0m \u001b[0mfib\u001b[0m\u001b[0;34m(\u001b[0m\u001b[0mlista\u001b[0m\u001b[0;34m)\u001b[0m\u001b[0;34m:\u001b[0m\u001b[0;34m\u001b[0m\u001b[0;34m\u001b[0m\u001b[0m\n\u001b[0m\u001b[1;32m      6\u001b[0m         \u001b[0;32mif\u001b[0m \u001b[0macum\u001b[0m \u001b[0;32min\u001b[0m \u001b[0mlista\u001b[0m \u001b[0;34m<\u001b[0m \u001b[0;36m2\u001b[0m\u001b[0;34m:\u001b[0m\u001b[0;34m\u001b[0m\u001b[0;34m\u001b[0m\u001b[0m\n\u001b[1;32m      7\u001b[0m             \u001b[0;32mreturn\u001b[0m \u001b[0mSumaDosAnteriores\u001b[0m\u001b[0;34m\u001b[0m\u001b[0;34m\u001b[0m\u001b[0m\n",
      "... last 1 frames repeated, from the frame below ...\n",
      "\u001b[0;32m<ipython-input-26-af91208f9eac>\u001b[0m in \u001b[0;36mfib\u001b[0;34m(lista)\u001b[0m\n\u001b[1;32m      3\u001b[0m \u001b[0;32mdef\u001b[0m \u001b[0mfib\u001b[0m\u001b[0;34m(\u001b[0m\u001b[0mlista\u001b[0m\u001b[0;34m)\u001b[0m\u001b[0;34m:\u001b[0m\u001b[0;34m\u001b[0m\u001b[0;34m\u001b[0m\u001b[0m\n\u001b[1;32m      4\u001b[0m     \u001b[0macum\u001b[0m \u001b[0;34m=\u001b[0m \u001b[0;36m0\u001b[0m\u001b[0;34m\u001b[0m\u001b[0;34m\u001b[0m\u001b[0m\n\u001b[0;32m----> 5\u001b[0;31m     \u001b[0;32mwhile\u001b[0m \u001b[0mfib\u001b[0m\u001b[0;34m(\u001b[0m\u001b[0mlista\u001b[0m\u001b[0;34m)\u001b[0m\u001b[0;34m:\u001b[0m\u001b[0;34m\u001b[0m\u001b[0;34m\u001b[0m\u001b[0m\n\u001b[0m\u001b[1;32m      6\u001b[0m         \u001b[0;32mif\u001b[0m \u001b[0macum\u001b[0m \u001b[0;32min\u001b[0m \u001b[0mlista\u001b[0m \u001b[0;34m<\u001b[0m \u001b[0;36m2\u001b[0m\u001b[0;34m:\u001b[0m\u001b[0;34m\u001b[0m\u001b[0;34m\u001b[0m\u001b[0m\n\u001b[1;32m      7\u001b[0m             \u001b[0;32mreturn\u001b[0m \u001b[0mSumaDosAnteriores\u001b[0m\u001b[0;34m\u001b[0m\u001b[0;34m\u001b[0m\u001b[0m\n",
      "\u001b[0;31mRecursionError\u001b[0m: maximum recursion depth exceeded"
     ]
    }
   ],
   "source": [
    "lista = [1, 1, 2, 3, 5, 8, 13, 21, 34, 55, 89, 144]\n",
    "\n",
    "def fib(lista):\n",
    "    acum = 0\n",
    "    while fib(lista):\n",
    "        if acum in lista < 2:\n",
    "            return SumaDosAnteriores\n",
    "        else:\n",
    "            return fib(lista - 1) + fib(lista - 2)\n",
    "\n",
    "SumaDosAnteriores = lista\n",
    "z = fib(lista)\n",
    "print(z)\n",
    "\n"
   ]
  },
  {
   "cell_type": "markdown",
   "metadata": {},
   "source": [
    "### Exercise 4."
   ]
  },
  {
   "cell_type": "markdown",
   "metadata": {},
   "source": [
    "To solve the following exercises it will be necessary to define a function for each section. You choose the name of those functions unless specified, but make sure you define a single parameter `whichever_list`, when calling the function it will correspond to the variable `info_list`."
   ]
  },
  {
   "cell_type": "code",
   "execution_count": 1,
   "metadata": {},
   "outputs": [],
   "source": [
    "# you can use this list or take yours from Practice 3\n",
    "info_list = [15, 'Recoletos', True, ['Recoletos', 15],  None, '8'] "
   ]
  },
  {
   "cell_type": "markdown",
   "metadata": {},
   "source": [
    "1. Define a function that saves the value of `\"nothing\"` in a variable and print it. Also, concatenate its value with the number of The Bridge and display it on the screen. \n",
    "\n",
    "   Also, display a boolean **True** if the length of the concatenated word is 6. If not, it will be **False**. The function must return the value **True** or **False** and the name of this function will be `f_s`."
   ]
  },
  {
   "cell_type": "code",
   "execution_count": 48,
   "metadata": {},
   "outputs": [
    {
     "output_type": "stream",
     "name": "stdout",
     "text": [
      "tiene que ser nothing\ntiene que ser nothing 15\n"
     ]
    }
   ],
   "source": [
    "#Muchos intentos aquí también porque realmente no entendía bien la pregunta... creo que lo he hecho super rebuscado:\n",
    "info_list = [15, 'Recoletos', True, ['Recoletos', 15],  None, '8'] \n",
    "\n",
    "#1a parte de a pregunta:\n",
    "something = \"tiene que ser nothing\"\n",
    "def funcion(info_list):\n",
    "        print(something)\n",
    "        #2a parte de la pregunta:\n",
    "        return message\n",
    "\n",
    "concatenacion = something + \" \" + str(15)\n",
    "message = concatenacion\n",
    "z = funcion(info_list)\n",
    "print(z)"
   ]
  },
  {
   "cell_type": "code",
   "execution_count": 50,
   "metadata": {},
   "outputs": [
    {
     "output_type": "stream",
     "name": "stdout",
     "text": [
      "False\n"
     ]
    }
   ],
   "source": [
    "#Tipos booleanos:\n",
    "something = \"tiene que ser nothing\"\n",
    "concatenacion = something + \" \" + str(15)\n",
    "\n",
    "def f_s(something):\n",
    "    while concatenacion == len(concatenacion):\n",
    "            print(bool(1))\n",
    "    return message\n",
    "    \n",
    "message = False\n",
    "z = f_s(something)\n",
    "print(z)"
   ]
  },
  {
   "cell_type": "markdown",
   "metadata": {},
   "source": [
    "### Bonus Track."
   ]
  },
  {
   "cell_type": "markdown",
   "metadata": {},
   "source": [
    "2. Create a list `list_aux` with 7 elements, whichever you want. Next, create a function `function_use_f_s` which receives as parameters a function `some_function` and whichever list `whichever_list`. If the value of `some_function` is **True**, then delete an item from `whichever_list`. Repeat the process until `whichever_list` has no elements. The argument for `whichever_list` must be `list_aux` and for `some_function` it will be the function `f_s` from the previous point."
   ]
  },
  {
   "cell_type": "code",
   "execution_count": null,
   "metadata": {},
   "outputs": [],
   "source": []
  },
  {
   "cell_type": "markdown",
   "metadata": {},
   "source": [
    "3. Define a function `even_numbers` that has an input parameter `arg1`, type integer. The function must return a list of numbers of size `arg1`, all of them being even numbers. \n",
    "\n",
    "   Don't use the function `print()` inside the function, but print what `even_numbers` returns when calling it with the argument `10`, just to check your function works.\n",
    "   \n",
    "```python\n",
    "print(even_numbers(10))\n",
    "```"
   ]
  },
  {
   "cell_type": "code",
   "execution_count": null,
   "metadata": {},
   "outputs": [],
   "source": []
  },
  {
   "cell_type": "markdown",
   "metadata": {},
   "source": [
    "4. Create a function that has an input variable `arg1`, which will be the list of even numbers from the previous section, and that removes elements from the list, one by one, if `arg1` has a size divisible by 2 and, if not, it adds just once, the value of the function `f_s` that should be a boolean (`True` or `False`).\n"
   ]
  },
  {
   "cell_type": "code",
   "execution_count": null,
   "metadata": {},
   "outputs": [],
   "source": []
  },
  {
   "cell_type": "markdown",
   "metadata": {},
   "source": [
    "!['nicetry'](https://i.pinimg.com/originals/36/ab/81/36ab81cd8d63cf7c4a08f39403698c77.jpg)"
   ]
  },
  {
   "cell_type": "code",
   "execution_count": null,
   "metadata": {},
   "outputs": [],
   "source": []
  }
 ],
 "metadata": {
  "kernelspec": {
   "name": "python3",
   "display_name": "Python 3.9.0 64-bit",
   "metadata": {
    "interpreter": {
     "hash": "aee8b7b246df8f9039afb4144a1f6fd8d2ca17a180786b69acc140d282b71a49"
    }
   }
  },
  "language_info": {
   "codemirror_mode": {
    "name": "ipython",
    "version": 3
   },
   "file_extension": ".py",
   "mimetype": "text/x-python",
   "name": "python",
   "nbconvert_exporter": "python",
   "pygments_lexer": "ipython3",
   "version": "3.9.0-final"
  }
 },
 "nbformat": 4,
 "nbformat_minor": 4
}